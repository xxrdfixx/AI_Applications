{
  "nbformat": 4,
  "nbformat_minor": 0,
  "metadata": {
    "colab": {
      "provenance": [],
      "include_colab_link": true
    },
    "kernelspec": {
      "name": "python3",
      "display_name": "Python 3"
    },
    "language_info": {
      "name": "python"
    }
  },
  "cells": [
    {
      "cell_type": "markdown",
      "metadata": {
        "id": "view-in-github",
        "colab_type": "text"
      },
      "source": [
        "<a href=\"https://colab.research.google.com/github/xxrdfixx/AI_Applications/blob/main/Week_6.ipynb\" target=\"_parent\"><img src=\"https://colab.research.google.com/assets/colab-badge.svg\" alt=\"Open In Colab\"/></a>"
      ]
    },
    {
      "cell_type": "code",
      "execution_count": 2,
      "metadata": {
        "id": "4jrAFsyfaFRN"
      },
      "outputs": [],
      "source": [
        "import numpy as np\n",
        "import tensorflow as tf\n",
        "import matplotlib.pyplot as plt"
      ]
    },
    {
      "cell_type": "code",
      "source": [
        "#Load Data\n",
        "mnist = tf.keras.datasets.mnist\n",
        "\n",
        "#Split data into train and test\n",
        "(train_images, train_labels), (test_images, test_labels) = mnist.load_data()\n",
        "\n",
        "#Normalize images\n",
        "train_images=train_images/255.0\n",
        "test_images=test_images/255.0"
      ],
      "metadata": {
        "id": "7w7mnXnaans8",
        "colab": {
          "base_uri": "https://localhost:8080/"
        },
        "outputId": "ee6e21b8-534d-4fd5-ed35-d7494ea2c876"
      },
      "execution_count": 3,
      "outputs": [
        {
          "output_type": "stream",
          "name": "stdout",
          "text": [
            "Downloading data from https://storage.googleapis.com/tensorflow/tf-keras-datasets/mnist.npz\n",
            "11490434/11490434 [==============================] - 1s 0us/step\n"
          ]
        }
      ]
    },
    {
      "cell_type": "code",
      "source": [
        "#2.1 Advanced Activity: Implement a CNN with Dropout and Batch Normalization\n",
        "def evaluate_cnn():\n",
        "    model = tf.keras.Sequential([\n",
        "        tf.keras.layers.Conv2D(32, (3, 3), activation='relu', input_shape=(28, 28, 1)),\n",
        "        tf.keras.layers.MaxPooling2D((2, 2)),\n",
        "        tf.keras.layers.Flatten(),\n",
        "        tf.keras.layers.Dense(128, activation='relu'),\n",
        "        tf.keras.layers.BatchNormalization(),  # Batch Normalization layer\n",
        "        tf.keras.layers.Dropout(0.5),  # Dropout layer with a dropout rate of 0.5\n",
        "        tf.keras.layers.Dense(10, activation='softmax')\n",
        "    ])\n",
        "\n",
        "    model.compile(optimizer='adam', loss='sparse_categorical_crossentropy', metrics=['accuracy'])\n",
        "    model.fit(train_images, train_labels, epochs=10)\n",
        "    test_loss, test_acc = model.evaluate(test_images, test_labels)\n",
        "    print(f\"Test accuracy with CNN, Dropout, and Batch Normalization: {test_acc}\")\n",
        "\n",
        "    return model\n",
        "\n",
        "cnn_model = evaluate_cnn()\n",
        "\n",
        "\n",
        "# Dropout is a regularization technique used during training to prevent overfitting.\n",
        "# It works by randomly setting a fraction of the input units to a layer to zero during each forward and backward pass.\n",
        "# During training, at each iteration, dropout randomly \"drops out\" (sets to zero) a fraction of the neurons in the network.\n",
        "\n",
        "# Batch Normalization is used to improve the stability and convergence of neural networks during training by normalizing the inputs to each layer.\n",
        "# Batch Normalization computes the mean and standard deviation of the input data within a mini-batch during training.\n",
        "# It then scales and shifts the inputs to ensure that they have a specified mean and standard deviation (typically close to 0 and 1).\n",
        "# This normalization is applied before the activation function of each layer."
      ],
      "metadata": {
        "id": "0MV6k5d3aod9",
        "colab": {
          "base_uri": "https://localhost:8080/"
        },
        "outputId": "27863159-a3c3-48be-8d18-c90dd3037d31"
      },
      "execution_count": 4,
      "outputs": [
        {
          "output_type": "stream",
          "name": "stdout",
          "text": [
            "Epoch 1/10\n",
            "1875/1875 [==============================] - 42s 21ms/step - loss: 0.1731 - accuracy: 0.9475\n",
            "Epoch 2/10\n",
            "1875/1875 [==============================] - 40s 22ms/step - loss: 0.0836 - accuracy: 0.9741\n",
            "Epoch 3/10\n",
            "1875/1875 [==============================] - 39s 21ms/step - loss: 0.0669 - accuracy: 0.9793\n",
            "Epoch 4/10\n",
            "1875/1875 [==============================] - 40s 21ms/step - loss: 0.0528 - accuracy: 0.9833\n",
            "Epoch 5/10\n",
            "1875/1875 [==============================] - 42s 23ms/step - loss: 0.0440 - accuracy: 0.9859\n",
            "Epoch 6/10\n",
            "1875/1875 [==============================] - 40s 21ms/step - loss: 0.0412 - accuracy: 0.9873\n",
            "Epoch 7/10\n",
            "1875/1875 [==============================] - 41s 22ms/step - loss: 0.0334 - accuracy: 0.9892\n",
            "Epoch 8/10\n",
            "1875/1875 [==============================] - 40s 21ms/step - loss: 0.0333 - accuracy: 0.9891\n",
            "Epoch 9/10\n",
            "1875/1875 [==============================] - 41s 22ms/step - loss: 0.0275 - accuracy: 0.9907\n",
            "Epoch 10/10\n",
            "1875/1875 [==============================] - 43s 23ms/step - loss: 0.0252 - accuracy: 0.9916\n",
            "313/313 [==============================] - 2s 6ms/step - loss: 0.0446 - accuracy: 0.9869\n",
            "Test accuracy with CNN, Dropout, and Batch Normalization: 0.9868999719619751\n"
          ]
        }
      ]
    },
    {
      "cell_type": "code",
      "source": [
        "# 2.2 Activity 2: Experiment with Different Activation Functions\n",
        "def evaluate_cnn_with_activation(activation_function):\n",
        "    model = tf.keras.Sequential([\n",
        "        tf.keras.layers.Conv2D(32, (3, 3), activation='relu', input_shape=(28, 28, 1)),\n",
        "        tf.keras.layers.MaxPooling2D((2, 2)),\n",
        "        tf.keras.layers.Flatten(),\n",
        "        tf.keras.layers.Dense(128, activation=activation_function),  # Experiment with different activations here\n",
        "        tf.keras.layers.Dense(10, activation='softmax')\n",
        "    ])\n",
        "\n",
        "    model.compile(optimizer='adam', loss='sparse_categorical_crossentropy', metrics=['accuracy'])\n",
        "    model.fit(train_images, train_labels, epochs=10)\n",
        "    test_loss, test_acc = model.evaluate(test_images, test_labels)\n",
        "    print(f\"Test accuracy with {activation_function} activation: {test_acc}\")\n",
        "\n",
        "    return model\n",
        "\n",
        "for activation_function in ['relu', 'sigmoid', 'tanh', 'elu']:\n",
        "    print(f\"Experimenting with {activation_function} activation:\")\n",
        "    evaluate_cnn_with_activation(activation_function)\n",
        "\n",
        "# Relu had the lowest accuracy, followed by sigmoid while elu had the highest followed by tahn."
      ],
      "metadata": {
        "colab": {
          "base_uri": "https://localhost:8080/"
        },
        "id": "VmCxIUsyjsfu",
        "outputId": "cf2b3135-136c-4008-cf47-1831d2294974"
      },
      "execution_count": 5,
      "outputs": [
        {
          "output_type": "stream",
          "name": "stdout",
          "text": [
            "Experimenting with relu activation:\n",
            "Epoch 1/10\n",
            "1875/1875 [==============================] - 47s 25ms/step - loss: 0.1534 - accuracy: 0.9545\n",
            "Epoch 2/10\n",
            "1875/1875 [==============================] - 40s 21ms/step - loss: 0.0521 - accuracy: 0.9837\n",
            "Epoch 3/10\n",
            "1875/1875 [==============================] - 43s 23ms/step - loss: 0.0341 - accuracy: 0.9891\n",
            "Epoch 4/10\n",
            "1875/1875 [==============================] - 40s 21ms/step - loss: 0.0224 - accuracy: 0.9931\n",
            "Epoch 5/10\n",
            "1875/1875 [==============================] - 40s 21ms/step - loss: 0.0153 - accuracy: 0.9949\n",
            "Epoch 6/10\n",
            "1875/1875 [==============================] - 39s 21ms/step - loss: 0.0107 - accuracy: 0.9967\n",
            "Epoch 7/10\n",
            "1875/1875 [==============================] - 41s 22ms/step - loss: 0.0086 - accuracy: 0.9969\n",
            "Epoch 8/10\n",
            "1875/1875 [==============================] - 40s 21ms/step - loss: 0.0063 - accuracy: 0.9980\n",
            "Epoch 9/10\n",
            "1875/1875 [==============================] - 39s 21ms/step - loss: 0.0048 - accuracy: 0.9985\n",
            "Epoch 10/10\n",
            "1875/1875 [==============================] - 39s 21ms/step - loss: 0.0044 - accuracy: 0.9986\n",
            "313/313 [==============================] - 3s 9ms/step - loss: 0.0673 - accuracy: 0.9850\n",
            "Test accuracy with relu activation: 0.9850000143051147\n",
            "Experimenting with sigmoid activation:\n",
            "Epoch 1/10\n",
            "1875/1875 [==============================] - 41s 22ms/step - loss: 0.2093 - accuracy: 0.9428\n",
            "Epoch 2/10\n",
            "1875/1875 [==============================] - 39s 21ms/step - loss: 0.0626 - accuracy: 0.9822\n",
            "Epoch 3/10\n",
            "1875/1875 [==============================] - 41s 22ms/step - loss: 0.0394 - accuracy: 0.9890\n",
            "Epoch 4/10\n",
            "1875/1875 [==============================] - 41s 22ms/step - loss: 0.0270 - accuracy: 0.9925\n",
            "Epoch 5/10\n",
            "1875/1875 [==============================] - 39s 21ms/step - loss: 0.0179 - accuracy: 0.9953\n",
            "Epoch 6/10\n",
            "1875/1875 [==============================] - 41s 22ms/step - loss: 0.0125 - accuracy: 0.9968\n",
            "Epoch 7/10\n",
            "1875/1875 [==============================] - 39s 21ms/step - loss: 0.0083 - accuracy: 0.9981\n",
            "Epoch 8/10\n",
            "1875/1875 [==============================] - 40s 21ms/step - loss: 0.0053 - accuracy: 0.9991\n",
            "Epoch 9/10\n",
            "1875/1875 [==============================] - 39s 21ms/step - loss: 0.0037 - accuracy: 0.9993\n",
            "Epoch 10/10\n",
            "1875/1875 [==============================] - 39s 21ms/step - loss: 0.0028 - accuracy: 0.9995\n",
            "313/313 [==============================] - 2s 6ms/step - loss: 0.0387 - accuracy: 0.9876\n",
            "Test accuracy with sigmoid activation: 0.9876000285148621\n",
            "Experimenting with tanh activation:\n",
            "Epoch 1/10\n",
            "1875/1875 [==============================] - 45s 24ms/step - loss: 0.1374 - accuracy: 0.9586\n",
            "Epoch 2/10\n",
            "1875/1875 [==============================] - 40s 21ms/step - loss: 0.0472 - accuracy: 0.9857\n",
            "Epoch 3/10\n",
            "1875/1875 [==============================] - 42s 22ms/step - loss: 0.0305 - accuracy: 0.9903\n",
            "Epoch 4/10\n",
            "1875/1875 [==============================] - 40s 21ms/step - loss: 0.0181 - accuracy: 0.9944\n",
            "Epoch 5/10\n",
            "1875/1875 [==============================] - 40s 21ms/step - loss: 0.0111 - accuracy: 0.9965\n",
            "Epoch 6/10\n",
            "1875/1875 [==============================] - 41s 22ms/step - loss: 0.0067 - accuracy: 0.9981\n",
            "Epoch 7/10\n",
            "1875/1875 [==============================] - 40s 21ms/step - loss: 0.0051 - accuracy: 0.9985\n",
            "Epoch 8/10\n",
            "1875/1875 [==============================] - 41s 22ms/step - loss: 0.0040 - accuracy: 0.9989\n",
            "Epoch 9/10\n",
            "1875/1875 [==============================] - 40s 21ms/step - loss: 0.0036 - accuracy: 0.9990\n",
            "Epoch 10/10\n",
            "1875/1875 [==============================] - 40s 21ms/step - loss: 0.0017 - accuracy: 0.9996\n",
            "313/313 [==============================] - 2s 6ms/step - loss: 0.0534 - accuracy: 0.9862\n",
            "Test accuracy with tanh activation: 0.9861999750137329\n",
            "Experimenting with elu activation:\n",
            "Epoch 1/10\n",
            "1875/1875 [==============================] - 42s 22ms/step - loss: 0.1397 - accuracy: 0.9582\n",
            "Epoch 2/10\n",
            "1875/1875 [==============================] - 39s 21ms/step - loss: 0.0546 - accuracy: 0.9838\n",
            "Epoch 3/10\n",
            "1875/1875 [==============================] - 41s 22ms/step - loss: 0.0351 - accuracy: 0.9892\n",
            "Epoch 4/10\n",
            "1875/1875 [==============================] - 39s 21ms/step - loss: 0.0237 - accuracy: 0.9925\n",
            "Epoch 5/10\n",
            "1875/1875 [==============================] - 39s 21ms/step - loss: 0.0156 - accuracy: 0.9947\n",
            "Epoch 6/10\n",
            "1875/1875 [==============================] - 40s 21ms/step - loss: 0.0110 - accuracy: 0.9963\n",
            "Epoch 7/10\n",
            "1875/1875 [==============================] - 39s 21ms/step - loss: 0.0084 - accuracy: 0.9973\n",
            "Epoch 8/10\n",
            "1875/1875 [==============================] - 41s 22ms/step - loss: 0.0060 - accuracy: 0.9982\n",
            "Epoch 9/10\n",
            "1875/1875 [==============================] - 39s 21ms/step - loss: 0.0063 - accuracy: 0.9976\n",
            "Epoch 10/10\n",
            "1875/1875 [==============================] - 39s 21ms/step - loss: 0.0034 - accuracy: 0.9988\n",
            "313/313 [==============================] - 2s 6ms/step - loss: 0.0568 - accuracy: 0.9861\n",
            "Test accuracy with elu activation: 0.9861000180244446\n"
          ]
        }
      ]
    },
    {
      "cell_type": "code",
      "source": [
        "# 2.3 Activity 3: Add More Convolutional Layers\n",
        "def evaluate_cnn_with_layer(activation_function):\n",
        "    model = tf.keras.Sequential([\n",
        "        tf.keras.layers.Conv2D(32, (3, 3), activation='relu', input_shape=(28, 28, 1)),\n",
        "        tf.keras.layers.MaxPooling2D((2, 2)),\n",
        "\n",
        "        tf.keras.layers.Conv2D(64, (3, 3), activation='relu'),  # Additional Conv2D layer\n",
        "        tf.keras.layers.MaxPooling2D((2, 2)),\n",
        "\n",
        "        tf.keras.layers.Flatten(),\n",
        "        tf.keras.layers.Dense(128, activation=activation_function),  # Experiment with different activations here\n",
        "        tf.keras.layers.Dense(10, activation='softmax')\n",
        "    ])\n",
        "\n",
        "    model.compile(optimizer='adam', loss='sparse_categorical_crossentropy', metrics=['accuracy'])\n",
        "    model.fit(train_images, train_labels, epochs=10)\n",
        "    test_loss, test_acc = model.evaluate(test_images, test_labels)\n",
        "    print(f\"Test accuracy: {test_acc}\")\n",
        "\n",
        "    return model\n",
        "\n",
        "cnn_model = evaluate_cnn_with_layer('relu')"
      ],
      "metadata": {
        "colab": {
          "base_uri": "https://localhost:8080/"
        },
        "id": "89evVtTUbhJ7",
        "outputId": "30ad43b6-e451-4327-9397-bdeeb905d2cb"
      },
      "execution_count": 6,
      "outputs": [
        {
          "metadata": {
            "tags": null
          },
          "name": "stdout",
          "output_type": "stream",
          "text": [
            "Epoch 1/10\n",
            "1875/1875 [==============================] - 56s 29ms/step - loss: 0.1295 - accuracy: 0.9604\n",
            "Epoch 2/10\n",
            "1875/1875 [==============================] - 57s 30ms/step - loss: 0.0440 - accuracy: 0.9868\n",
            "Epoch 3/10\n",
            "1875/1875 [==============================] - 54s 29ms/step - loss: 0.0297 - accuracy: 0.9909\n",
            "Epoch 4/10\n",
            "1875/1875 [==============================] - 55s 30ms/step - loss: 0.0219 - accuracy: 0.9928\n",
            "Epoch 5/10\n",
            "1875/1875 [==============================] - 54s 29ms/step - loss: 0.0156 - accuracy: 0.9949\n",
            "Epoch 6/10\n",
            "1875/1875 [==============================] - 56s 30ms/step - loss: 0.0128 - accuracy: 0.9958\n",
            "Epoch 7/10\n",
            "1875/1875 [==============================] - 55s 30ms/step - loss: 0.0105 - accuracy: 0.9965\n",
            "Epoch 8/10\n",
            "1875/1875 [==============================] - 55s 29ms/step - loss: 0.0084 - accuracy: 0.9972\n",
            "Epoch 9/10\n",
            "1875/1875 [==============================] - 54s 29ms/step - loss: 0.0068 - accuracy: 0.9978\n",
            "Epoch 10/10\n",
            "1875/1875 [==============================] - 54s 29ms/step - loss: 0.0070 - accuracy: 0.9977\n",
            "313/313 [==============================] - 3s 9ms/step - loss: 0.0375 - accuracy: 0.9910\n",
            "Test accuracy: 0.9909999966621399\n"
          ]
        }
      ]
    },
    {
      "cell_type": "code",
      "source": [
        "# 2.4 Activity 4: Experiment with Different Optimizers\n",
        "def evaluate_cnn_with_layer(activation_function):\n",
        "    model = tf.keras.Sequential([\n",
        "        tf.keras.layers.Conv2D(32, (3, 3), activation='relu', input_shape=(28, 28, 1)),\n",
        "        tf.keras.layers.MaxPooling2D((2, 2)),\n",
        "        tf.keras.layers.Flatten(),\n",
        "        tf.keras.layers.Dense(128, activation=activation_function),  # Experiment with different activations here\n",
        "        tf.keras.layers.Dense(10, activation='softmax')\n",
        "    ])\n",
        "\n",
        "    model.compile(optimizer='SGD', loss='sparse_categorical_crossentropy', metrics=['accuracy'])\n",
        "    model.fit(train_images, train_labels, epochs=10)\n",
        "    test_loss, test_acc = model.evaluate(test_images, test_labels)\n",
        "    print(f\"Test accuracy: {test_acc}\")\n",
        "\n",
        "    return model\n",
        "\n",
        "cnn_model = evaluate_cnn_with_layer('relu')"
      ],
      "metadata": {
        "colab": {
          "base_uri": "https://localhost:8080/"
        },
        "id": "71cFhAinzvFJ",
        "outputId": "4522256e-52bb-4dcc-c9e3-512ca67f3e78"
      },
      "execution_count": 8,
      "outputs": [
        {
          "output_type": "stream",
          "name": "stdout",
          "text": [
            "Epoch 1/10\n",
            "1875/1875 [==============================] - 53s 28ms/step - loss: 0.4696 - accuracy: 0.8726\n",
            "Epoch 2/10\n",
            "1875/1875 [==============================] - 33s 18ms/step - loss: 0.2169 - accuracy: 0.9360\n",
            "Epoch 3/10\n",
            "1875/1875 [==============================] - 34s 18ms/step - loss: 0.1655 - accuracy: 0.9512\n",
            "Epoch 4/10\n",
            "1875/1875 [==============================] - 35s 19ms/step - loss: 0.1347 - accuracy: 0.9605\n",
            "Epoch 5/10\n",
            "1875/1875 [==============================] - 36s 19ms/step - loss: 0.1129 - accuracy: 0.9667\n",
            "Epoch 6/10\n",
            "1875/1875 [==============================] - 34s 18ms/step - loss: 0.0981 - accuracy: 0.9711\n",
            "Epoch 7/10\n",
            "1875/1875 [==============================] - 34s 18ms/step - loss: 0.0868 - accuracy: 0.9745\n",
            "Epoch 8/10\n",
            "1875/1875 [==============================] - 34s 18ms/step - loss: 0.0780 - accuracy: 0.9768\n",
            "Epoch 9/10\n",
            "1875/1875 [==============================] - 35s 19ms/step - loss: 0.0703 - accuracy: 0.9790\n",
            "Epoch 10/10\n",
            "1875/1875 [==============================] - 33s 18ms/step - loss: 0.0644 - accuracy: 0.9812\n",
            "313/313 [==============================] - 2s 7ms/step - loss: 0.0699 - accuracy: 0.9781\n",
            "Test accuracy: 0.9781000018119812\n"
          ]
        }
      ]
    },
    {
      "cell_type": "code",
      "source": [
        "# 2.4 Activity 4: Experiment with Different Optimizers\n",
        "def evaluate_cnn_with_layer(activation_function):\n",
        "    model = tf.keras.Sequential([\n",
        "        tf.keras.layers.Conv2D(32, (3, 3), activation='relu', input_shape=(28, 28, 1)),\n",
        "        tf.keras.layers.MaxPooling2D((2, 2)),\n",
        "        tf.keras.layers.Flatten(),\n",
        "        tf.keras.layers.Dense(128, activation=activation_function),  # Experiment with different activations here\n",
        "        tf.keras.layers.Dense(10, activation='softmax')\n",
        "    ])\n",
        "\n",
        "    model.compile(optimizer='RMSprop', loss='sparse_categorical_crossentropy', metrics=['accuracy'])\n",
        "    model.fit(train_images, train_labels, epochs=10)\n",
        "    test_loss, test_acc = model.evaluate(test_images, test_labels)\n",
        "    print(f\"Test accuracy: {test_acc}\")\n",
        "\n",
        "    return model\n",
        "\n",
        "cnn_model = evaluate_cnn_with_layer('relu')"
      ],
      "metadata": {
        "colab": {
          "base_uri": "https://localhost:8080/"
        },
        "id": "U4S_2sOg0xYe",
        "outputId": "922dbf01-471f-4756-d119-e5b614945985"
      },
      "execution_count": 9,
      "outputs": [
        {
          "output_type": "stream",
          "name": "stdout",
          "text": [
            "Epoch 1/10\n",
            "1875/1875 [==============================] - 38s 20ms/step - loss: 0.1514 - accuracy: 0.9546\n",
            "Epoch 2/10\n",
            "1875/1875 [==============================] - 37s 20ms/step - loss: 0.0522 - accuracy: 0.9845\n",
            "Epoch 3/10\n",
            "1875/1875 [==============================] - 39s 21ms/step - loss: 0.0347 - accuracy: 0.9897\n",
            "Epoch 4/10\n",
            "1875/1875 [==============================] - 38s 20ms/step - loss: 0.0245 - accuracy: 0.9927\n",
            "Epoch 5/10\n",
            "1875/1875 [==============================] - 38s 20ms/step - loss: 0.0189 - accuracy: 0.9944\n",
            "Epoch 6/10\n",
            "1875/1875 [==============================] - 38s 20ms/step - loss: 0.0127 - accuracy: 0.9962\n",
            "Epoch 7/10\n",
            "1875/1875 [==============================] - 39s 21ms/step - loss: 0.0091 - accuracy: 0.9974\n",
            "Epoch 8/10\n",
            "1875/1875 [==============================] - 38s 20ms/step - loss: 0.0065 - accuracy: 0.9981\n",
            "Epoch 9/10\n",
            "1875/1875 [==============================] - 38s 20ms/step - loss: 0.0049 - accuracy: 0.9987\n",
            "Epoch 10/10\n",
            "1875/1875 [==============================] - 37s 20ms/step - loss: 0.0033 - accuracy: 0.9991\n",
            "313/313 [==============================] - 2s 6ms/step - loss: 0.0677 - accuracy: 0.9845\n",
            "Test accuracy: 0.984499990940094\n"
          ]
        }
      ]
    },
    {
      "cell_type": "code",
      "source": [
        "# 2.4 Activity 4: Experiment with Different Optimizers\n",
        "def evaluate_cnn_with_layer(activation_function):\n",
        "    model = tf.keras.Sequential([\n",
        "        tf.keras.layers.Conv2D(32, (3, 3), activation='relu', input_shape=(28, 28, 1)),\n",
        "        tf.keras.layers.MaxPooling2D((2, 2)),\n",
        "        tf.keras.layers.Flatten(),\n",
        "        tf.keras.layers.Dense(128, activation=activation_function),  # Experiment with different activations here\n",
        "        tf.keras.layers.Dense(10, activation='softmax')\n",
        "    ])\n",
        "\n",
        "    model.compile(optimizer='adam', loss='sparse_categorical_crossentropy', metrics=['accuracy'])\n",
        "    model.fit(train_images, train_labels, epochs=10)\n",
        "    test_loss, test_acc = model.evaluate(test_images, test_labels)\n",
        "    print(f\"Test accuracy: {test_acc}\")\n",
        "\n",
        "    return model\n",
        "\n",
        "cnn_model = evaluate_cnn_with_layer('relu')"
      ],
      "metadata": {
        "colab": {
          "base_uri": "https://localhost:8080/"
        },
        "id": "-BvXksTq01Ez",
        "outputId": "0e23af56-2661-48dc-d46c-a1b3d9c2a56b"
      },
      "execution_count": 10,
      "outputs": [
        {
          "output_type": "stream",
          "name": "stdout",
          "text": [
            "Epoch 1/10\n",
            "1875/1875 [==============================] - 39s 21ms/step - loss: 0.1504 - accuracy: 0.9565\n",
            "Epoch 2/10\n",
            "1875/1875 [==============================] - 39s 21ms/step - loss: 0.0525 - accuracy: 0.9835\n",
            "Epoch 3/10\n",
            "1875/1875 [==============================] - 39s 21ms/step - loss: 0.0333 - accuracy: 0.9895\n",
            "Epoch 4/10\n",
            "1875/1875 [==============================] - 40s 21ms/step - loss: 0.0216 - accuracy: 0.9929\n",
            "Epoch 5/10\n",
            "1875/1875 [==============================] - 39s 21ms/step - loss: 0.0144 - accuracy: 0.9953\n",
            "Epoch 6/10\n",
            "1875/1875 [==============================] - 39s 21ms/step - loss: 0.0105 - accuracy: 0.9966\n",
            "Epoch 7/10\n",
            "1875/1875 [==============================] - 39s 21ms/step - loss: 0.0076 - accuracy: 0.9975\n",
            "Epoch 8/10\n",
            "1875/1875 [==============================] - 39s 21ms/step - loss: 0.0066 - accuracy: 0.9979\n",
            "Epoch 9/10\n",
            "1875/1875 [==============================] - 40s 21ms/step - loss: 0.0050 - accuracy: 0.9985\n",
            "Epoch 10/10\n",
            "1875/1875 [==============================] - 39s 21ms/step - loss: 0.0048 - accuracy: 0.9984\n",
            "313/313 [==============================] - 2s 7ms/step - loss: 0.0518 - accuracy: 0.9877\n",
            "Test accuracy: 0.9876999855041504\n"
          ]
        }
      ]
    },
    {
      "cell_type": "markdown",
      "source": [
        "### **RMSprop had the best performance at 0.985 accuracy, followed by adam at 0.9825 and lastly, relu at 0.976.**"
      ],
      "metadata": {
        "id": "so869b5k5HVe"
      }
    }
  ]
}