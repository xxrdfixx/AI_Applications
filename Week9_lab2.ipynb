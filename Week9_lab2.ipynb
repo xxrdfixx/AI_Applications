{
  "nbformat": 4,
  "nbformat_minor": 0,
  "metadata": {
    "colab": {
      "provenance": [],
      "authorship_tag": "ABX9TyPhnuAOH8xoRAkAXJs7PPri",
      "include_colab_link": true
    },
    "kernelspec": {
      "name": "python3",
      "display_name": "Python 3"
    },
    "language_info": {
      "name": "python"
    }
  },
  "cells": [
    {
      "cell_type": "markdown",
      "metadata": {
        "id": "view-in-github",
        "colab_type": "text"
      },
      "source": [
        "<a href=\"https://colab.research.google.com/github/xxrdfixx/AI_Applications/blob/main/Week9_lab2.ipynb\" target=\"_parent\"><img src=\"https://colab.research.google.com/assets/colab-badge.svg\" alt=\"Open In Colab\"/></a>"
      ]
    },
    {
      "cell_type": "code",
      "source": [
        "import tensorflow as tf\n",
        "from tensorflow import keras\n",
        "import numpy as np\n",
        "import matplotlib.pyplot as plt\n",
        "import logging\n",
        "\n",
        "# Set TensorFlow logger level to ERROR\n",
        "tf.get_logger().setLevel(logging.ERROR)\n",
        "\n",
        "# Load CIFAR-10 dataset\n",
        "cifar_dataset = keras.datasets.cifar10\n",
        "(train_data, train_labels), (test_data, test_labels) = cifar_dataset.load_data()\n",
        "\n",
        "# Print the category of the 100th training example\n",
        "print('Category:', train_labels[100])\n",
        "\n",
        "# Create a small plot for the 100th image\n",
        "plt.figure(figsize=(1, 1))\n",
        "plt.imshow(train_data[100])\n",
        "plt.show()"
      ],
      "metadata": {
        "colab": {
          "base_uri": "https://localhost:8080/",
          "height": 216
        },
        "id": "GLRxe4S-aQKc",
        "outputId": "79dbe26d-892d-4230-ebd3-0e36df4be4ef"
      },
      "execution_count": 14,
      "outputs": [
        {
          "output_type": "stream",
          "name": "stdout",
          "text": [
            "Downloading data from https://www.cs.toronto.edu/~kriz/cifar-10-python.tar.gz\n",
            "170498071/170498071 [==============================] - 10s 0us/step\n",
            "Category: [8]\n"
          ]
        },
        {
          "output_type": "display_data",
          "data": {
            "text/plain": [
              "<Figure size 100x100 with 1 Axes>"
            ],
            "image/png": "[encoded data removed]"
          },
          "metadata": {}
        }
      ]
    },
    {
      "cell_type": "code",
      "source": [
        "plt.savefig('path_to_image.jpg')"
      ],
      "metadata": {
        "colab": {
          "base_uri": "https://localhost:8080/",
          "height": 35
        },
        "id": "Qe7l8RJZacUJ",
        "outputId": "e4b0fd86-01fa-4c71-8742-2a27626e7cda"
      },
      "execution_count": 16,
      "outputs": [
        {
          "output_type": "display_data",
          "data": {
            "text/plain": [
              "<Figure size 640x480 with 0 Axes>"
            ]
          },
          "metadata": {}
        }
      ]
    },
    {
      "cell_type": "code",
      "execution_count": 18,
      "metadata": {
        "colab": {
          "base_uri": "https://localhost:8080/",
          "height": 404
        },
        "id": "cy9t1dOxPery",
        "outputId": "f77bcc7a-0141-44e4-ebdb-92266687d8cf"
      },
      "outputs": [
        {
          "output_type": "display_data",
          "data": {
            "text/plain": [
              "<PIL.Image.Image image mode=RGB size=224x224>"
            ],
            "image/png": "[encoded data removed]"
          },
          "metadata": {}
        },
        {
          "output_type": "stream",
          "name": "stdout",
          "text": [
            "1/1 [==============================] - 1s 977ms/step\n",
            "Downloading data from https://storage.googleapis.com/download.tensorflow.org/data/imagenet_class_index.json\n",
            "35363/35363 [==============================] - 0s 0us/step\n",
            "1: cleaver (0.02)\n",
            "2: envelope (0.02)\n",
            "3: can_opener (0.01)\n",
            "4: corkscrew (0.01)\n",
            "5: face_powder (0.01)\n"
          ]
        }
      ],
      "source": [
        "# Import necessary libraries\n",
        "import tensorflow as tf\n",
        "from tensorflow.keras.applications.vgg16 import VGG16\n",
        "from tensorflow.keras.applications.vgg16 import preprocess_input,decode_predictions\n",
        "from tensorflow.keras.preprocessing import image\n",
        "import matplotlib.pyplot as plt\n",
        "import numpy as np\n",
        "\n",
        "# Load the pre - trained VGG16 model\n",
        "model = VGG16(weights = 'imagenet')\n",
        "\n",
        "# Load an example image\n",
        "\n",
        "img_path = 'path_to_image.jpg'\n",
        "img = image.load_img( img_path, color_mode='rgb', target_size =(224 , 224))\n",
        "x = image.img_to_array ( img )\n",
        "x = np.expand_dims (x , axis =0)\n",
        "x = preprocess_input (x)\n",
        "display(img)\n",
        "# Make predictions\n",
        "predictions = model . predict (x )\n",
        "decoded_predictions = decode_predictions ( predictions , top =5) [0]\n",
        "\n",
        "# Display top predictions\n",
        "for i , ( imagenet_id , label , score ) in enumerate ( decoded_predictions\n",
        "):\n",
        "    print (f\"{i + 1}: { label } ({ score :.2f})\")"
      ]
    }
  ]
}